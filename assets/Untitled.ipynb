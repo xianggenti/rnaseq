{
 "cells": [
  {
   "cell_type": "markdown",
   "id": "3b5dad16-6600-4d6a-bce8-ad98be3f6678",
   "metadata": {},
   "source": [
    "## Prepare samplesheet.csv for nextflow"
   ]
  },
  {
   "cell_type": "code",
   "execution_count": 2,
   "id": "c4cadd8e-ec33-495d-b9f7-1e5287e143cc",
   "metadata": {},
   "outputs": [],
   "source": [
    "import pandas as pd\n",
    "import os"
   ]
  },
  {
   "cell_type": "code",
   "execution_count": 29,
   "id": "8d6f2829-0309-4f06-8e0a-30bec06498bf",
   "metadata": {},
   "outputs": [],
   "source": [
    "PATH_INPUT = \"/home/xli/Raw_Data/highlander/bulkRNAseq/30-608912618/00_fastq/\"\n",
    "Key_extension = \".fastq.gz\"\n",
    "FILES = []\n",
    "for file in os.listdir(PATH_INPUT):\n",
    "    if file.endswith(Key_extension):\n",
    "        FILES.append(os.path.join(PATH_INPUT, file))"
   ]
  },
  {
   "cell_type": "code",
   "execution_count": 30,
   "id": "c7db9d33-1d74-4ee7-b4d5-98bcfc10af5b",
   "metadata": {},
   "outputs": [
    {
     "data": {
      "text/plain": [
       "['/home/xli/Raw_Data/highlander/bulkRNAseq/30-608912618/00_fastq/1--9_R1_001.fastq.gz',\n",
       " '/home/xli/Raw_Data/highlander/bulkRNAseq/30-608912618/00_fastq/1--3_R2_001.fastq.gz',\n",
       " '/home/xli/Raw_Data/highlander/bulkRNAseq/30-608912618/00_fastq/1--3_R1_001.fastq.gz',\n",
       " '/home/xli/Raw_Data/highlander/bulkRNAseq/30-608912618/00_fastq/1--4_R2_001.fastq.gz',\n",
       " '/home/xli/Raw_Data/highlander/bulkRNAseq/30-608912618/00_fastq/1--2_R1_001.fastq.gz',\n",
       " '/home/xli/Raw_Data/highlander/bulkRNAseq/30-608912618/00_fastq/1--1_R2_001.fastq.gz',\n",
       " '/home/xli/Raw_Data/highlander/bulkRNAseq/30-608912618/00_fastq/1--4_R1_001.fastq.gz',\n",
       " '/home/xli/Raw_Data/highlander/bulkRNAseq/30-608912618/00_fastq/1--1_R1_001.fastq.gz',\n",
       " '/home/xli/Raw_Data/highlander/bulkRNAseq/30-608912618/00_fastq/1--9_R2_001.fastq.gz',\n",
       " '/home/xli/Raw_Data/highlander/bulkRNAseq/30-608912618/00_fastq/1--2_R2_001.fastq.gz']"
      ]
     },
     "execution_count": 30,
     "metadata": {},
     "output_type": "execute_result"
    }
   ],
   "source": [
    "FILES"
   ]
  },
  {
   "cell_type": "code",
   "execution_count": 35,
   "id": "882c3c88-311d-418f-9e09-d3c29d48fc9d",
   "metadata": {},
   "outputs": [
    {
     "name": "stdout",
     "output_type": "stream",
     "text": [
      "7    /home/xli/Raw_Data/highlander/bulkRNAseq/30-608912618/00_fastq/1--1_R1_001.fastq.gz\n",
      "5    /home/xli/Raw_Data/highlander/bulkRNAseq/30-608912618/00_fastq/1--1_R2_001.fastq.gz\n",
      "4    /home/xli/Raw_Data/highlander/bulkRNAseq/30-608912618/00_fastq/1--2_R1_001.fastq.gz\n",
      "9    /home/xli/Raw_Data/highlander/bulkRNAseq/30-608912618/00_fastq/1--2_R2_001.fastq.gz\n",
      "2    /home/xli/Raw_Data/highlander/bulkRNAseq/30-608912618/00_fastq/1--3_R1_001.fastq.gz\n",
      "1    /home/xli/Raw_Data/highlander/bulkRNAseq/30-608912618/00_fastq/1--3_R2_001.fastq.gz\n",
      "6    /home/xli/Raw_Data/highlander/bulkRNAseq/30-608912618/00_fastq/1--4_R1_001.fastq.gz\n",
      "3    /home/xli/Raw_Data/highlander/bulkRNAseq/30-608912618/00_fastq/1--4_R2_001.fastq.gz\n",
      "0    /home/xli/Raw_Data/highlander/bulkRNAseq/30-608912618/00_fastq/1--9_R1_001.fastq.gz\n",
      "8    /home/xli/Raw_Data/highlander/bulkRNAseq/30-608912618/00_fastq/1--9_R2_001.fastq.gz\n",
      "Name: fastq_1, dtype: object\n"
     ]
    },
    {
     "name": "stderr",
     "output_type": "stream",
     "text": [
      "<ipython-input-35-500129df68db>:2: FutureWarning: Passing a negative integer is deprecated in version 1.0 and will not be supported in future version. Instead, use None to not limit the column width.\n",
      "  pd.set_option('display.max_colwidth', -1)\n"
     ]
    }
   ],
   "source": [
    "pd.set_option('display.width', None)\n",
    "pd.set_option('display.max_colwidth', -1)\n",
    "print (pd.DataFrame(data = {'fastq_1': FILES}).sort_values(by = 'fastq_1').fastq_1)"
   ]
  }
 ],
 "metadata": {
  "kernelspec": {
   "display_name": "Python 3",
   "language": "python",
   "name": "python3"
  },
  "language_info": {
   "codemirror_mode": {
    "name": "ipython",
    "version": 3
   },
   "file_extension": ".py",
   "mimetype": "text/x-python",
   "name": "python",
   "nbconvert_exporter": "python",
   "pygments_lexer": "ipython3",
   "version": "3.9.7"
  }
 },
 "nbformat": 4,
 "nbformat_minor": 5
}
